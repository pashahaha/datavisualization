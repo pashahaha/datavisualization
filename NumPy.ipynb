{
  "nbformat": 4,
  "nbformat_minor": 0,
  "metadata": {
    "colab": {
      "provenance": [],
      "toc_visible": true,
      "authorship_tag": "ABX9TyMsPFQrMxZFd0XJ0g1Mz2ie",
      "include_colab_link": true
    },
    "kernelspec": {
      "name": "python3",
      "display_name": "Python 3"
    },
    "language_info": {
      "name": "python"
    }
  },
  "cells": [
    {
      "cell_type": "markdown",
      "metadata": {
        "id": "view-in-github",
        "colab_type": "text"
      },
      "source": [
        "<a href=\"https://colab.research.google.com/github/pashahaha/datavisualization/blob/main/NumPy.ipynb\" target=\"_parent\"><img src=\"https://colab.research.google.com/assets/colab-badge.svg\" alt=\"Open In Colab\"/></a>"
      ]
    },
    {
      "cell_type": "code",
      "execution_count": 1,
      "metadata": {
        "id": "NFFtn4ohSs4t"
      },
      "outputs": [],
      "source": [
        "import numpy as np #\n",
        "x1 = np.random.randint(1,10, size=6)\n",
        "x2 = np.random.randint(1,10, size=(3,4))\n",
        "x3 = np.random.randint(1,10, size=(3,4,5))"
      ]
    },
    {
      "cell_type": "code",
      "source": [
        "print(x1)\n",
        "print()\n",
        "print(x2)\n",
        "print()\n",
        "print(x3)\n",
        "print()"
      ],
      "metadata": {
        "colab": {
          "base_uri": "https://localhost:8080/"
        },
        "id": "120IvZqSTei9",
        "outputId": "ea28d635-9d84-40b0-db9a-5f28ec994e2b"
      },
      "execution_count": 2,
      "outputs": [
        {
          "output_type": "stream",
          "name": "stdout",
          "text": [
            "[1 6 9 1 7 5]\n",
            "\n",
            "[[2 2 4 3]\n",
            " [6 1 1 5]\n",
            " [4 2 2 1]]\n",
            "\n",
            "[[[1 6 5 9 6]\n",
            "  [3 9 4 6 4]\n",
            "  [2 6 8 9 7]\n",
            "  [8 6 6 6 7]]\n",
            "\n",
            " [[6 6 3 8 7]\n",
            "  [8 8 6 2 3]\n",
            "  [7 6 5 2 2]\n",
            "  [9 9 1 3 4]]\n",
            "\n",
            " [[9 4 4 5 6]\n",
            "  [5 6 3 4 4]\n",
            "  [1 5 5 1 9]\n",
            "  [2 5 2 1 8]]]\n",
            "\n"
          ]
        }
      ]
    },
    {
      "cell_type": "markdown",
      "source": [
        "Each array has attributes ``ndim`` (the number of dimensions), ``shape`` (the size of each dimension), and ``size`` (the total size of the array):"
      ],
      "metadata": {
        "id": "uT7W_7hVU3JF"
      }
    },
    {
      "cell_type": "code",
      "source": [
        "print(\"x3 ndim: \", x3.ndim)\n",
        "print(\"x3 shape: \", x3.shape)\n",
        "print(\"x3 size: \", x3.size)"
      ],
      "metadata": {
        "colab": {
          "base_uri": "https://localhost:8080/"
        },
        "id": "7GG4z6bEUYNE",
        "outputId": "79c9b1aa-0f15-47a5-8aa7-7d85d90a54d9"
      },
      "execution_count": 3,
      "outputs": [
        {
          "output_type": "stream",
          "name": "stdout",
          "text": [
            "x3 ndim:  3\n",
            "x3 shape:  (3, 4, 5)\n",
            "x3 size:  60\n"
          ]
        }
      ]
    },
    {
      "cell_type": "code",
      "source": [
        "print(np.arange(6,60,6))\n",
        "print(np.linspace(0,180,num=10))"
      ],
      "metadata": {
        "colab": {
          "base_uri": "https://localhost:8080/"
        },
        "id": "lnfZusMMVhOV",
        "outputId": "107ff777-93d2-4757-bf10-d8da7278e43f"
      },
      "execution_count": 4,
      "outputs": [
        {
          "output_type": "stream",
          "name": "stdout",
          "text": [
            "[ 6 12 18 24 30 36 42 48 54]\n",
            "[  0.  20.  40.  60.  80. 100. 120. 140. 160. 180.]\n"
          ]
        }
      ]
    },
    {
      "cell_type": "code",
      "source": [
        "x1"
      ],
      "metadata": {
        "colab": {
          "base_uri": "https://localhost:8080/"
        },
        "id": "0OZVRpFUWRdT",
        "outputId": "19219c8d-7f70-4ebd-8cf7-9f0244c4bec2"
      },
      "execution_count": 5,
      "outputs": [
        {
          "output_type": "execute_result",
          "data": {
            "text/plain": [
              "array([1, 6, 9, 1, 7, 5])"
            ]
          },
          "metadata": {},
          "execution_count": 5
        }
      ]
    },
    {
      "cell_type": "code",
      "source": [
        "x1[4]"
      ],
      "metadata": {
        "colab": {
          "base_uri": "https://localhost:8080/"
        },
        "id": "IiQmucEkWe0K",
        "outputId": "c9d8028b-c5b9-445d-8600-352a0c539f2b"
      },
      "execution_count": 6,
      "outputs": [
        {
          "output_type": "execute_result",
          "data": {
            "text/plain": [
              "np.int64(7)"
            ]
          },
          "metadata": {},
          "execution_count": 6
        }
      ]
    },
    {
      "cell_type": "code",
      "source": [
        "x1[-1]"
      ],
      "metadata": {
        "colab": {
          "base_uri": "https://localhost:8080/"
        },
        "id": "b-3Fqb0wWoCI",
        "outputId": "2e37b6d0-23c6-4196-cb4e-58e5c89bf1d0"
      },
      "execution_count": 7,
      "outputs": [
        {
          "output_type": "execute_result",
          "data": {
            "text/plain": [
              "np.int64(5)"
            ]
          },
          "metadata": {},
          "execution_count": 7
        }
      ]
    },
    {
      "cell_type": "code",
      "source": [
        "x2"
      ],
      "metadata": {
        "colab": {
          "base_uri": "https://localhost:8080/"
        },
        "id": "CBLhqU0JWzRN",
        "outputId": "c6016471-8f5a-4498-dee0-efbf40ec8343"
      },
      "execution_count": 8,
      "outputs": [
        {
          "output_type": "execute_result",
          "data": {
            "text/plain": [
              "array([[2, 2, 4, 3],\n",
              "       [6, 1, 1, 5],\n",
              "       [4, 2, 2, 1]])"
            ]
          },
          "metadata": {},
          "execution_count": 8
        }
      ]
    },
    {
      "cell_type": "code",
      "source": [
        "x2[0,0]"
      ],
      "metadata": {
        "colab": {
          "base_uri": "https://localhost:8080/"
        },
        "id": "AKCe884qW2sy",
        "outputId": "69e402ae-6c6d-47cf-e26f-12a678ee5b00"
      },
      "execution_count": 9,
      "outputs": [
        {
          "output_type": "execute_result",
          "data": {
            "text/plain": [
              "np.int64(2)"
            ]
          },
          "metadata": {},
          "execution_count": 9
        }
      ]
    },
    {
      "cell_type": "code",
      "source": [
        "x2[0,1]"
      ],
      "metadata": {
        "colab": {
          "base_uri": "https://localhost:8080/"
        },
        "id": "anHWQiCLW77y",
        "outputId": "0d4c7d56-932c-4bfb-b6cc-f6af026514be"
      },
      "execution_count": 10,
      "outputs": [
        {
          "output_type": "execute_result",
          "data": {
            "text/plain": [
              "np.int64(2)"
            ]
          },
          "metadata": {},
          "execution_count": 10
        }
      ]
    },
    {
      "cell_type": "code",
      "source": [
        "x2[0,0] = 3.6768\n",
        "x2"
      ],
      "metadata": {
        "colab": {
          "base_uri": "https://localhost:8080/"
        },
        "id": "e_YIRYxRXGkM",
        "outputId": "6e29fa3a-ffe1-4265-8135-3b21f1571731"
      },
      "execution_count": 11,
      "outputs": [
        {
          "output_type": "execute_result",
          "data": {
            "text/plain": [
              "array([[3, 2, 4, 3],\n",
              "       [6, 1, 1, 5],\n",
              "       [4, 2, 2, 1]])"
            ]
          },
          "metadata": {},
          "execution_count": 11
        }
      ]
    },
    {
      "cell_type": "markdown",
      "source": [
        "**Array Slicing; Accessing Subarrays**"
      ],
      "metadata": {
        "id": "BzAycHyUXjwp"
      }
    },
    {
      "cell_type": "markdown",
      "source": [
        "x[start:stop:step]"
      ],
      "metadata": {
        "id": "MkhC1jV4X3Jt"
      }
    },
    {
      "cell_type": "code",
      "source": [
        "data = np.array ([1,2,3])"
      ],
      "metadata": {
        "id": "7tEvcUvQXyDN"
      },
      "execution_count": 12,
      "outputs": []
    },
    {
      "cell_type": "code",
      "source": [
        "data[0:3]"
      ],
      "metadata": {
        "colab": {
          "base_uri": "https://localhost:8080/"
        },
        "id": "3YAL7XguZqkC",
        "outputId": "c354265d-3688-431d-f600-9aeea522c11c"
      },
      "execution_count": 13,
      "outputs": [
        {
          "output_type": "execute_result",
          "data": {
            "text/plain": [
              "array([1, 2, 3])"
            ]
          },
          "metadata": {},
          "execution_count": 13
        }
      ]
    },
    {
      "cell_type": "markdown",
      "source": [
        "# NumPy 2\n"
      ],
      "metadata": {
        "id": "4bKIsafUbgsd"
      }
    },
    {
      "cell_type": "code",
      "source": [
        "x1 = np.random.randint(1,10, size=6) #1D array\n",
        "x2 = np.random.randint(1,10, size=(4,4)) #2D array\n",
        "x3 = np.random.randint(1,10, size=(6,3,3)) #3D array"
      ],
      "metadata": {
        "id": "3rfpXuV8bmnt"
      },
      "execution_count": 24,
      "outputs": []
    },
    {
      "cell_type": "code",
      "source": [
        "print(x1)\n",
        "print()\n",
        "print(x2)\n",
        "print()\n",
        "print(x3)\n",
        "print()"
      ],
      "metadata": {
        "colab": {
          "base_uri": "https://localhost:8080/"
        },
        "id": "FSUaeHAzcO3v",
        "outputId": "69d6cdf6-6b67-4419-8732-424854d2cacb"
      },
      "execution_count": 25,
      "outputs": [
        {
          "output_type": "stream",
          "name": "stdout",
          "text": [
            "[9 6 6 3 6 9]\n",
            "\n",
            "[[9 8 2 2]\n",
            " [7 4 1 7]\n",
            " [3 5 9 2]\n",
            " [5 4 8 3]]\n",
            "\n",
            "[[[2 6 2]\n",
            "  [5 7 9]\n",
            "  [8 3 7]]\n",
            "\n",
            " [[6 6 9]\n",
            "  [6 6 6]\n",
            "  [1 9 4]]\n",
            "\n",
            " [[9 5 1]\n",
            "  [4 2 8]\n",
            "  [7 7 3]]\n",
            "\n",
            " [[8 1 9]\n",
            "  [8 9 2]\n",
            "  [1 7 5]]\n",
            "\n",
            " [[1 4 8]\n",
            "  [7 9 6]\n",
            "  [5 9 3]]\n",
            "\n",
            " [[9 9 6]\n",
            "  [4 6 9]\n",
            "  [2 1 9]]]\n",
            "\n"
          ]
        }
      ]
    },
    {
      "cell_type": "code",
      "source": [
        "x2[:2, :3] #2 baris 3 kolom"
      ],
      "metadata": {
        "colab": {
          "base_uri": "https://localhost:8080/"
        },
        "id": "g_8NHeKhclhB",
        "outputId": "d083d4d3-b956-427b-de35-4cc70d7382db"
      },
      "execution_count": 30,
      "outputs": [
        {
          "output_type": "execute_result",
          "data": {
            "text/plain": [
              "array([[9, 8, 2],\n",
              "       [7, 4, 1]])"
            ]
          },
          "metadata": {},
          "execution_count": 30
        }
      ]
    },
    {
      "cell_type": "code",
      "source": [
        "x2[:3, ::1]"
      ],
      "metadata": {
        "colab": {
          "base_uri": "https://localhost:8080/"
        },
        "id": "xzEZlCa4dKK9",
        "outputId": "9db8ca34-b108-4028-f868-7307b8cd76f7"
      },
      "execution_count": 38,
      "outputs": [
        {
          "output_type": "execute_result",
          "data": {
            "text/plain": [
              "array([[9, 8, 2, 2],\n",
              "       [7, 4, 1, 7],\n",
              "       [3, 5, 9, 2]])"
            ]
          },
          "metadata": {},
          "execution_count": 38
        }
      ]
    },
    {
      "cell_type": "code",
      "source": [
        "print(x2[:,0]) #kolom pertama x2"
      ],
      "metadata": {
        "colab": {
          "base_uri": "https://localhost:8080/"
        },
        "id": "VV_1V7rcdlo3",
        "outputId": "9925bd56-dc86-467c-9620-a852e3237dfb"
      },
      "execution_count": 41,
      "outputs": [
        {
          "output_type": "stream",
          "name": "stdout",
          "text": [
            "[2 1 9 8]\n"
          ]
        }
      ]
    },
    {
      "cell_type": "code",
      "source": [
        "print(x2[0,:]) #baris pertama x2"
      ],
      "metadata": {
        "colab": {
          "base_uri": "https://localhost:8080/"
        },
        "id": "aeMXpcItebiP",
        "outputId": "4d84c3de-f47c-46f5-ebfc-a269b1c115d4"
      },
      "execution_count": 42,
      "outputs": [
        {
          "output_type": "stream",
          "name": "stdout",
          "text": [
            "[9 8 2 2]\n"
          ]
        }
      ]
    },
    {
      "cell_type": "code",
      "source": [
        "print(x2[0])"
      ],
      "metadata": {
        "colab": {
          "base_uri": "https://localhost:8080/"
        },
        "id": "DWvCAtniewdL",
        "outputId": "cded0c25-c644-4fee-d2a5-2ae2b78eb2c5"
      },
      "execution_count": 43,
      "outputs": [
        {
          "output_type": "stream",
          "name": "stdout",
          "text": [
            "[9 8 2 2]\n"
          ]
        }
      ]
    },
    {
      "cell_type": "markdown",
      "source": [
        "##Extract\n"
      ],
      "metadata": {
        "id": "1TJnMXalfHU4"
      }
    },
    {
      "cell_type": "code",
      "source": [
        "x2_sub = x2[:2,:2]\n",
        "print(x2_sub)"
      ],
      "metadata": {
        "colab": {
          "base_uri": "https://localhost:8080/"
        },
        "id": "EFTCndjAfYct",
        "outputId": "3d6ee256-a3a3-4736-c47c-529bdb9dced8"
      },
      "execution_count": 44,
      "outputs": [
        {
          "output_type": "stream",
          "name": "stdout",
          "text": [
            "[[9 8]\n",
            " [7 4]]\n"
          ]
        }
      ]
    },
    {
      "cell_type": "code",
      "source": [
        "x2_sub[0,0] = 99\n",
        "print(x2_sub)"
      ],
      "metadata": {
        "colab": {
          "base_uri": "https://localhost:8080/"
        },
        "id": "fTpkHz7bf8lV",
        "outputId": "8f27f368-7d02-4590-85f7-1fa43f098d86"
      },
      "execution_count": 45,
      "outputs": [
        {
          "output_type": "stream",
          "name": "stdout",
          "text": [
            "[[99  8]\n",
            " [ 7  4]]\n"
          ]
        }
      ]
    },
    {
      "cell_type": "code",
      "source": [
        "print(x2)"
      ],
      "metadata": {
        "colab": {
          "base_uri": "https://localhost:8080/"
        },
        "id": "xa7VcCCUgExn",
        "outputId": "23d57a53-a37b-4a16-e973-62d11b7cf727"
      },
      "execution_count": 46,
      "outputs": [
        {
          "output_type": "stream",
          "name": "stdout",
          "text": [
            "[[99  8  2  2]\n",
            " [ 7  4  1  7]\n",
            " [ 3  5  9  2]\n",
            " [ 5  4  8  3]]\n"
          ]
        }
      ]
    },
    {
      "cell_type": "markdown",
      "source": [
        "##Creating copies of arrays\n"
      ],
      "metadata": {
        "id": "FYzV_AJuggim"
      }
    },
    {
      "cell_type": "code",
      "source": [
        "#Despite the nice features of array views, it is sometimes useful to instead explicitly copy the data within an array or a subarray. This can be most easily done with the copy() method:"
      ],
      "metadata": {
        "id": "FT31OLQrgrsp"
      },
      "execution_count": null,
      "outputs": []
    },
    {
      "cell_type": "code",
      "source": [
        "x2_sub_copy = x2[:2, :2].copy()\n",
        "print(x2_sub_copy)"
      ],
      "metadata": {
        "colab": {
          "base_uri": "https://localhost:8080/"
        },
        "id": "bzSRVeO1hOcc",
        "outputId": "bbea0211-1c98-40d8-cc4e-8552bee74f38"
      },
      "execution_count": 47,
      "outputs": [
        {
          "output_type": "stream",
          "name": "stdout",
          "text": [
            "[[99  8]\n",
            " [ 7  4]]\n"
          ]
        }
      ]
    },
    {
      "cell_type": "code",
      "source": [
        "x2_sub_copy[0, 0] = 42\n",
        "print(x2_sub_copy)"
      ],
      "metadata": {
        "colab": {
          "base_uri": "https://localhost:8080/"
        },
        "id": "zxh65RilhWav",
        "outputId": "509e043e-82f5-4f97-a0d5-c796bd54bc69"
      },
      "execution_count": 48,
      "outputs": [
        {
          "output_type": "stream",
          "name": "stdout",
          "text": [
            "[[42  8]\n",
            " [ 7  4]]\n"
          ]
        }
      ]
    },
    {
      "cell_type": "code",
      "source": [
        "print(x2)"
      ],
      "metadata": {
        "colab": {
          "base_uri": "https://localhost:8080/"
        },
        "id": "_GYN0dIZhnV0",
        "outputId": "8b290bd4-b341-41fd-9ec8-82b8d9c60eb6"
      },
      "execution_count": 49,
      "outputs": [
        {
          "output_type": "stream",
          "name": "stdout",
          "text": [
            "[[99  8  2  2]\n",
            " [ 7  4  1  7]\n",
            " [ 3  5  9  2]\n",
            " [ 5  4  8  3]]\n"
          ]
        }
      ]
    }
  ]
}