{
  "nbformat": 4,
  "nbformat_minor": 0,
  "metadata": {
    "colab": {
      "provenance": [],
      "authorship_tag": "ABX9TyMHRkXIdOL3p+oa+4q9EIcz",
      "include_colab_link": true
    },
    "kernelspec": {
      "name": "python3",
      "display_name": "Python 3"
    },
    "language_info": {
      "name": "python"
    }
  },
  "cells": [
    {
      "cell_type": "markdown",
      "metadata": {
        "id": "view-in-github",
        "colab_type": "text"
      },
      "source": [
        "<a href=\"https://colab.research.google.com/github/pashahaha/datavisualization/blob/main/NumPy.ipynb\" target=\"_parent\"><img src=\"https://colab.research.google.com/assets/colab-badge.svg\" alt=\"Open In Colab\"/></a>"
      ]
    },
    {
      "cell_type": "code",
      "execution_count": null,
      "metadata": {
        "id": "NFFtn4ohSs4t"
      },
      "outputs": [],
      "source": [
        "import numpy as np #\n",
        "x1 = np.random.randint(1,10, size=6)\n",
        "x2 = np.random.randint(1,10, size=(3,4))\n",
        "x3 = np.random.randint(1,10, size=(3,4,5))"
      ]
    },
    {
      "cell_type": "code",
      "source": [
        "print(x1)\n",
        "print()\n",
        "print(x2)\n",
        "print()\n",
        "print(x3)\n",
        "print()"
      ],
      "metadata": {
        "colab": {
          "base_uri": "https://localhost:8080/"
        },
        "id": "120IvZqSTei9",
        "outputId": "ab67ce3f-b170-4f88-8a6d-f1e72dffbf1e"
      },
      "execution_count": null,
      "outputs": [
        {
          "output_type": "stream",
          "name": "stdout",
          "text": [
            "[1 9 8 9 7 5]\n",
            "\n",
            "[[5 8 6 7]\n",
            " [2 6 9 3]\n",
            " [8 7 1 2]]\n",
            "\n",
            "[[[1 6 1 6 7]\n",
            "  [8 9 3 2 3]\n",
            "  [1 4 1 2 3]\n",
            "  [3 5 8 4 8]]\n",
            "\n",
            " [[7 7 6 1 8]\n",
            "  [5 2 2 4 8]\n",
            "  [2 4 2 5 8]\n",
            "  [6 6 9 5 5]]\n",
            "\n",
            " [[7 1 3 3 9]\n",
            "  [9 5 6 5 3]\n",
            "  [3 8 9 2 2]\n",
            "  [1 8 4 2 1]]]\n",
            "\n"
          ]
        }
      ]
    },
    {
      "cell_type": "markdown",
      "source": [
        "Each array has attributes ``ndim`` (the number of dimensions), ``shape`` (the size of each dimension), and ``size`` (the total size of the array):"
      ],
      "metadata": {
        "id": "uT7W_7hVU3JF"
      }
    },
    {
      "cell_type": "code",
      "source": [
        "print(\"x3 ndim: \", x3.ndim)\n",
        "print(\"x3 shape: \", x3.shape)\n",
        "print(\"x3 size: \", x3.size)"
      ],
      "metadata": {
        "colab": {
          "base_uri": "https://localhost:8080/"
        },
        "id": "7GG4z6bEUYNE",
        "outputId": "d335bce1-f078-4ac5-d306-abfe6c5df58b"
      },
      "execution_count": null,
      "outputs": [
        {
          "output_type": "stream",
          "name": "stdout",
          "text": [
            "x3 ndim:  3\n",
            "x3 shape:  (3, 4, 5)\n",
            "x3 size:  60\n"
          ]
        }
      ]
    },
    {
      "cell_type": "code",
      "source": [
        "print(np.arange(6,60,6))\n",
        "print(np.linspace(0,180,num=10))"
      ],
      "metadata": {
        "colab": {
          "base_uri": "https://localhost:8080/"
        },
        "id": "lnfZusMMVhOV",
        "outputId": "8eee4e9c-f1ec-4d4f-ed76-e171653681af"
      },
      "execution_count": null,
      "outputs": [
        {
          "output_type": "stream",
          "name": "stdout",
          "text": [
            "[ 6 12 18 24 30 36 42 48 54]\n",
            "[  0.  20.  40.  60.  80. 100. 120. 140. 160. 180.]\n"
          ]
        }
      ]
    },
    {
      "cell_type": "code",
      "source": [
        "x1"
      ],
      "metadata": {
        "colab": {
          "base_uri": "https://localhost:8080/"
        },
        "id": "0OZVRpFUWRdT",
        "outputId": "8c06d079-c2ec-4d24-97ee-bd4c4fe78407"
      },
      "execution_count": null,
      "outputs": [
        {
          "output_type": "execute_result",
          "data": {
            "text/plain": [
              "array([1, 9, 8, 9, 7, 5])"
            ]
          },
          "metadata": {},
          "execution_count": 13
        }
      ]
    },
    {
      "cell_type": "code",
      "source": [
        "x1[4]"
      ],
      "metadata": {
        "colab": {
          "base_uri": "https://localhost:8080/"
        },
        "id": "IiQmucEkWe0K",
        "outputId": "2482496e-b54b-45df-d5cb-a75c5be80572"
      },
      "execution_count": null,
      "outputs": [
        {
          "output_type": "execute_result",
          "data": {
            "text/plain": [
              "np.int64(7)"
            ]
          },
          "metadata": {},
          "execution_count": 15
        }
      ]
    },
    {
      "cell_type": "code",
      "source": [
        "x1[-1]"
      ],
      "metadata": {
        "colab": {
          "base_uri": "https://localhost:8080/"
        },
        "id": "b-3Fqb0wWoCI",
        "outputId": "9992609a-720c-48cb-8065-76cff068d264"
      },
      "execution_count": null,
      "outputs": [
        {
          "output_type": "execute_result",
          "data": {
            "text/plain": [
              "np.int64(5)"
            ]
          },
          "metadata": {},
          "execution_count": 16
        }
      ]
    },
    {
      "cell_type": "code",
      "source": [
        "x2"
      ],
      "metadata": {
        "colab": {
          "base_uri": "https://localhost:8080/"
        },
        "id": "CBLhqU0JWzRN",
        "outputId": "93345cef-984d-4ae0-faa9-6a87cc122e3a"
      },
      "execution_count": null,
      "outputs": [
        {
          "output_type": "execute_result",
          "data": {
            "text/plain": [
              "array([[5, 8, 6, 7],\n",
              "       [2, 6, 9, 3],\n",
              "       [8, 7, 1, 2]])"
            ]
          },
          "metadata": {},
          "execution_count": 17
        }
      ]
    },
    {
      "cell_type": "code",
      "source": [
        "x2[0,0]"
      ],
      "metadata": {
        "colab": {
          "base_uri": "https://localhost:8080/"
        },
        "id": "AKCe884qW2sy",
        "outputId": "7616ab14-e2e8-4921-d898-841c97fddc38"
      },
      "execution_count": null,
      "outputs": [
        {
          "output_type": "execute_result",
          "data": {
            "text/plain": [
              "np.int64(5)"
            ]
          },
          "metadata": {},
          "execution_count": 18
        }
      ]
    },
    {
      "cell_type": "code",
      "source": [
        "x2[0,1]"
      ],
      "metadata": {
        "colab": {
          "base_uri": "https://localhost:8080/"
        },
        "id": "anHWQiCLW77y",
        "outputId": "b5bba2c3-08c8-4734-8802-2def9c1adf6c"
      },
      "execution_count": null,
      "outputs": [
        {
          "output_type": "execute_result",
          "data": {
            "text/plain": [
              "np.int64(8)"
            ]
          },
          "metadata": {},
          "execution_count": 19
        }
      ]
    },
    {
      "cell_type": "code",
      "source": [
        "x2[0,0] = 3.6768\n",
        "x2"
      ],
      "metadata": {
        "colab": {
          "base_uri": "https://localhost:8080/"
        },
        "id": "e_YIRYxRXGkM",
        "outputId": "bfc4b743-d97c-401f-c13e-99246fe25d7b"
      },
      "execution_count": null,
      "outputs": [
        {
          "output_type": "execute_result",
          "data": {
            "text/plain": [
              "array([[3, 8, 6, 7],\n",
              "       [2, 6, 9, 3],\n",
              "       [8, 7, 1, 2]])"
            ]
          },
          "metadata": {},
          "execution_count": 21
        }
      ]
    },
    {
      "cell_type": "markdown",
      "source": [
        "**Array Slicing; Accessing Subarrays**"
      ],
      "metadata": {
        "id": "BzAycHyUXjwp"
      }
    },
    {
      "cell_type": "markdown",
      "source": [
        "x[start:stop:step]"
      ],
      "metadata": {
        "id": "MkhC1jV4X3Jt"
      }
    },
    {
      "cell_type": "code",
      "source": [
        "data = np.array ([1,2,3])"
      ],
      "metadata": {
        "id": "7tEvcUvQXyDN"
      },
      "execution_count": null,
      "outputs": []
    },
    {
      "cell_type": "code",
      "source": [
        "data[0:3]"
      ],
      "metadata": {
        "colab": {
          "base_uri": "https://localhost:8080/"
        },
        "id": "3YAL7XguZqkC",
        "outputId": "b0abea8a-55f4-407e-eeeb-7169cf71586f"
      },
      "execution_count": null,
      "outputs": [
        {
          "output_type": "execute_result",
          "data": {
            "text/plain": [
              "array([1, 2, 3])"
            ]
          },
          "metadata": {},
          "execution_count": 24
        }
      ]
    }
  ]
}