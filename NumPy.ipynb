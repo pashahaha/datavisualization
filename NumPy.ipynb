{
  "nbformat": 4,
  "nbformat_minor": 0,
  "metadata": {
    "colab": {
      "provenance": [],
      "toc_visible": true,
      "authorship_tag": "ABX9TyNYLILFDSAYB4eDM7stDpIL",
      "include_colab_link": true
    },
    "kernelspec": {
      "name": "python3",
      "display_name": "Python 3"
    },
    "language_info": {
      "name": "python"
    }
  },
  "cells": [
    {
      "cell_type": "markdown",
      "metadata": {
        "id": "view-in-github",
        "colab_type": "text"
      },
      "source": [
        "<a href=\"https://colab.research.google.com/github/pashahaha/datavisualization/blob/main/NumPy.ipynb\" target=\"_parent\"><img src=\"https://colab.research.google.com/assets/colab-badge.svg\" alt=\"Open In Colab\"/></a>"
      ]
    },
    {
      "cell_type": "code",
      "execution_count": 1,
      "metadata": {
        "id": "NFFtn4ohSs4t"
      },
      "outputs": [],
      "source": [
        "import numpy as np #\n",
        "x1 = np.random.randint(1,10, size=6)\n",
        "x2 = np.random.randint(1,10, size=(3,4))\n",
        "x3 = np.random.randint(1,10, size=(3,4,5))"
      ]
    },
    {
      "cell_type": "code",
      "source": [
        "print(x1)\n",
        "print()\n",
        "print(x2)\n",
        "print()\n",
        "print(x3)\n",
        "print()"
      ],
      "metadata": {
        "colab": {
          "base_uri": "https://localhost:8080/"
        },
        "id": "120IvZqSTei9",
        "outputId": "6987337c-45ef-409f-beeb-c41ff52f8a43"
      },
      "execution_count": 2,
      "outputs": [
        {
          "output_type": "stream",
          "name": "stdout",
          "text": [
            "[8 5 9 5 3 5]\n",
            "\n",
            "[[4 1 2 2]\n",
            " [9 2 8 4]\n",
            " [1 3 8 9]]\n",
            "\n",
            "[[[7 3 4 6 9]\n",
            "  [5 9 4 3 3]\n",
            "  [5 6 2 8 6]\n",
            "  [2 2 9 7 6]]\n",
            "\n",
            " [[8 9 9 1 4]\n",
            "  [6 6 4 8 8]\n",
            "  [8 3 5 8 1]\n",
            "  [8 2 9 8 9]]\n",
            "\n",
            " [[1 6 1 8 9]\n",
            "  [9 9 4 3 4]\n",
            "  [1 5 1 7 2]\n",
            "  [5 8 5 9 9]]]\n",
            "\n"
          ]
        }
      ]
    },
    {
      "cell_type": "markdown",
      "source": [
        "Each array has attributes ``ndim`` (the number of dimensions), ``shape`` (the size of each dimension), and ``size`` (the total size of the array):"
      ],
      "metadata": {
        "id": "uT7W_7hVU3JF"
      }
    },
    {
      "cell_type": "code",
      "source": [
        "print(\"x3 ndim: \", x3.ndim)\n",
        "print(\"x3 shape: \", x3.shape)\n",
        "print(\"x3 size: \", x3.size)"
      ],
      "metadata": {
        "colab": {
          "base_uri": "https://localhost:8080/"
        },
        "id": "7GG4z6bEUYNE",
        "outputId": "420b4b68-4c88-4ad4-f2c9-3ff43f938517"
      },
      "execution_count": 3,
      "outputs": [
        {
          "output_type": "stream",
          "name": "stdout",
          "text": [
            "x3 ndim:  3\n",
            "x3 shape:  (3, 4, 5)\n",
            "x3 size:  60\n"
          ]
        }
      ]
    },
    {
      "cell_type": "code",
      "source": [
        "print(np.arange(6,60,6))\n",
        "print(np.linspace(0,180,num=10))"
      ],
      "metadata": {
        "colab": {
          "base_uri": "https://localhost:8080/"
        },
        "id": "lnfZusMMVhOV",
        "outputId": "a6cf55ce-4bdf-43cf-f7c5-ce00aa84b564"
      },
      "execution_count": 4,
      "outputs": [
        {
          "output_type": "stream",
          "name": "stdout",
          "text": [
            "[ 6 12 18 24 30 36 42 48 54]\n",
            "[  0.  20.  40.  60.  80. 100. 120. 140. 160. 180.]\n"
          ]
        }
      ]
    },
    {
      "cell_type": "code",
      "source": [
        "x1"
      ],
      "metadata": {
        "colab": {
          "base_uri": "https://localhost:8080/"
        },
        "id": "0OZVRpFUWRdT",
        "outputId": "9d7da61c-417c-4da3-eba4-0fef9020fb55"
      },
      "execution_count": 5,
      "outputs": [
        {
          "output_type": "execute_result",
          "data": {
            "text/plain": [
              "array([8, 5, 9, 5, 3, 5])"
            ]
          },
          "metadata": {},
          "execution_count": 5
        }
      ]
    },
    {
      "cell_type": "code",
      "source": [
        "x1[4]"
      ],
      "metadata": {
        "colab": {
          "base_uri": "https://localhost:8080/"
        },
        "id": "IiQmucEkWe0K",
        "outputId": "8e1cfded-4d92-40bf-a78c-072c186a21e5"
      },
      "execution_count": 6,
      "outputs": [
        {
          "output_type": "execute_result",
          "data": {
            "text/plain": [
              "np.int64(3)"
            ]
          },
          "metadata": {},
          "execution_count": 6
        }
      ]
    },
    {
      "cell_type": "code",
      "source": [
        "x1[-1]"
      ],
      "metadata": {
        "colab": {
          "base_uri": "https://localhost:8080/"
        },
        "id": "b-3Fqb0wWoCI",
        "outputId": "ea68ba53-e5c3-40fe-ed6d-3c63195facc0"
      },
      "execution_count": 7,
      "outputs": [
        {
          "output_type": "execute_result",
          "data": {
            "text/plain": [
              "np.int64(5)"
            ]
          },
          "metadata": {},
          "execution_count": 7
        }
      ]
    },
    {
      "cell_type": "code",
      "source": [
        "x2"
      ],
      "metadata": {
        "colab": {
          "base_uri": "https://localhost:8080/"
        },
        "id": "CBLhqU0JWzRN",
        "outputId": "3c86281e-49f1-4f4e-8036-fc88fd0ef74e"
      },
      "execution_count": 8,
      "outputs": [
        {
          "output_type": "execute_result",
          "data": {
            "text/plain": [
              "array([[4, 1, 2, 2],\n",
              "       [9, 2, 8, 4],\n",
              "       [1, 3, 8, 9]])"
            ]
          },
          "metadata": {},
          "execution_count": 8
        }
      ]
    },
    {
      "cell_type": "code",
      "source": [
        "x2[0,0]"
      ],
      "metadata": {
        "colab": {
          "base_uri": "https://localhost:8080/"
        },
        "id": "AKCe884qW2sy",
        "outputId": "e82e0846-aecf-4616-8fb9-89e70dd05f55"
      },
      "execution_count": 9,
      "outputs": [
        {
          "output_type": "execute_result",
          "data": {
            "text/plain": [
              "np.int64(4)"
            ]
          },
          "metadata": {},
          "execution_count": 9
        }
      ]
    },
    {
      "cell_type": "code",
      "source": [
        "x2[0,1]"
      ],
      "metadata": {
        "colab": {
          "base_uri": "https://localhost:8080/"
        },
        "id": "anHWQiCLW77y",
        "outputId": "95e5794f-6672-41eb-f572-9386f7dbc30f"
      },
      "execution_count": 10,
      "outputs": [
        {
          "output_type": "execute_result",
          "data": {
            "text/plain": [
              "np.int64(1)"
            ]
          },
          "metadata": {},
          "execution_count": 10
        }
      ]
    },
    {
      "cell_type": "code",
      "source": [
        "x2[0,0] = 3.6768\n",
        "x2"
      ],
      "metadata": {
        "colab": {
          "base_uri": "https://localhost:8080/"
        },
        "id": "e_YIRYxRXGkM",
        "outputId": "ff3b0cdc-8b2c-480a-f937-06c136b01254"
      },
      "execution_count": 11,
      "outputs": [
        {
          "output_type": "execute_result",
          "data": {
            "text/plain": [
              "array([[3, 1, 2, 2],\n",
              "       [9, 2, 8, 4],\n",
              "       [1, 3, 8, 9]])"
            ]
          },
          "metadata": {},
          "execution_count": 11
        }
      ]
    },
    {
      "cell_type": "markdown",
      "source": [
        "**Array Slicing; Accessing Subarrays**"
      ],
      "metadata": {
        "id": "BzAycHyUXjwp"
      }
    },
    {
      "cell_type": "markdown",
      "source": [
        "x[start:stop:step]"
      ],
      "metadata": {
        "id": "MkhC1jV4X3Jt"
      }
    },
    {
      "cell_type": "code",
      "source": [
        "data = np.array ([1,2,3])"
      ],
      "metadata": {
        "id": "7tEvcUvQXyDN"
      },
      "execution_count": 12,
      "outputs": []
    },
    {
      "cell_type": "code",
      "source": [
        "data[0:3]"
      ],
      "metadata": {
        "colab": {
          "base_uri": "https://localhost:8080/"
        },
        "id": "3YAL7XguZqkC",
        "outputId": "ec2d42a7-f44b-4296-f453-27245b52f8c6"
      },
      "execution_count": 13,
      "outputs": [
        {
          "output_type": "execute_result",
          "data": {
            "text/plain": [
              "array([1, 2, 3])"
            ]
          },
          "metadata": {},
          "execution_count": 13
        }
      ]
    },
    {
      "cell_type": "markdown",
      "source": [
        "# NumPy 2\n"
      ],
      "metadata": {
        "id": "4bKIsafUbgsd"
      }
    },
    {
      "cell_type": "code",
      "source": [
        "x1 = np.random.randint(1,10, size=6) #1D array\n",
        "x2 = np.random.randint(1,10, size=(4,4)) #2D array\n",
        "x3 = np.random.randint(1,10, size=(6,3,3)) #3D array"
      ],
      "metadata": {
        "id": "3rfpXuV8bmnt"
      },
      "execution_count": 14,
      "outputs": []
    },
    {
      "cell_type": "code",
      "source": [
        "print(x1)\n",
        "print()\n",
        "print(x2)\n",
        "print()\n",
        "print(x3)\n",
        "print()"
      ],
      "metadata": {
        "colab": {
          "base_uri": "https://localhost:8080/"
        },
        "id": "FSUaeHAzcO3v",
        "outputId": "e2932380-547d-4157-9bd4-6e55a25afb32"
      },
      "execution_count": 15,
      "outputs": [
        {
          "output_type": "stream",
          "name": "stdout",
          "text": [
            "[3 7 4 5 6 4]\n",
            "\n",
            "[[1 4 3 1]\n",
            " [6 9 9 2]\n",
            " [9 2 9 4]\n",
            " [5 4 3 9]]\n",
            "\n",
            "[[[9 3 8]\n",
            "  [8 3 6]\n",
            "  [6 5 8]]\n",
            "\n",
            " [[6 6 4]\n",
            "  [2 5 7]\n",
            "  [4 5 3]]\n",
            "\n",
            " [[8 7 4]\n",
            "  [9 3 5]\n",
            "  [3 6 5]]\n",
            "\n",
            " [[6 3 1]\n",
            "  [4 1 3]\n",
            "  [2 8 8]]\n",
            "\n",
            " [[8 5 7]\n",
            "  [5 8 1]\n",
            "  [2 7 5]]\n",
            "\n",
            " [[1 5 8]\n",
            "  [6 7 1]\n",
            "  [7 2 4]]]\n",
            "\n"
          ]
        }
      ]
    },
    {
      "cell_type": "code",
      "source": [
        "x2[:2, :3] #2 baris 3 kolom"
      ],
      "metadata": {
        "colab": {
          "base_uri": "https://localhost:8080/"
        },
        "id": "g_8NHeKhclhB",
        "outputId": "860967e8-8b8f-4016-e766-dbace72d30c6"
      },
      "execution_count": 16,
      "outputs": [
        {
          "output_type": "execute_result",
          "data": {
            "text/plain": [
              "array([[1, 4, 3],\n",
              "       [6, 9, 9]])"
            ]
          },
          "metadata": {},
          "execution_count": 16
        }
      ]
    },
    {
      "cell_type": "code",
      "source": [
        "x2[:3, ::1]"
      ],
      "metadata": {
        "colab": {
          "base_uri": "https://localhost:8080/"
        },
        "id": "xzEZlCa4dKK9",
        "outputId": "fa073276-34d1-4717-8967-f9c96d11d70d"
      },
      "execution_count": 17,
      "outputs": [
        {
          "output_type": "execute_result",
          "data": {
            "text/plain": [
              "array([[1, 4, 3, 1],\n",
              "       [6, 9, 9, 2],\n",
              "       [9, 2, 9, 4]])"
            ]
          },
          "metadata": {},
          "execution_count": 17
        }
      ]
    },
    {
      "cell_type": "code",
      "source": [
        "print(x2[:,0]) #kolom pertama x2"
      ],
      "metadata": {
        "colab": {
          "base_uri": "https://localhost:8080/"
        },
        "id": "VV_1V7rcdlo3",
        "outputId": "31a5f674-e002-4e8b-ad81-e35e84e247e2"
      },
      "execution_count": 18,
      "outputs": [
        {
          "output_type": "stream",
          "name": "stdout",
          "text": [
            "[1 6 9 5]\n"
          ]
        }
      ]
    },
    {
      "cell_type": "code",
      "source": [
        "print(x2[0,:]) #baris pertama x2"
      ],
      "metadata": {
        "colab": {
          "base_uri": "https://localhost:8080/"
        },
        "id": "aeMXpcItebiP",
        "outputId": "f1775cd3-7091-4079-e2cd-afe6f5e86ece"
      },
      "execution_count": 19,
      "outputs": [
        {
          "output_type": "stream",
          "name": "stdout",
          "text": [
            "[1 4 3 1]\n"
          ]
        }
      ]
    },
    {
      "cell_type": "code",
      "source": [
        "print(x2[0])"
      ],
      "metadata": {
        "colab": {
          "base_uri": "https://localhost:8080/"
        },
        "id": "DWvCAtniewdL",
        "outputId": "93c2b282-5c42-444a-835c-328f42dd00b5"
      },
      "execution_count": 20,
      "outputs": [
        {
          "output_type": "stream",
          "name": "stdout",
          "text": [
            "[1 4 3 1]\n"
          ]
        }
      ]
    },
    {
      "cell_type": "markdown",
      "source": [
        "##Extract\n"
      ],
      "metadata": {
        "id": "1TJnMXalfHU4"
      }
    },
    {
      "cell_type": "code",
      "source": [
        "x2_sub = x2[:2,:2]\n",
        "print(x2_sub)"
      ],
      "metadata": {
        "colab": {
          "base_uri": "https://localhost:8080/"
        },
        "id": "EFTCndjAfYct",
        "outputId": "aacc48e5-05cf-43ba-91e2-448202b13a61"
      },
      "execution_count": 21,
      "outputs": [
        {
          "output_type": "stream",
          "name": "stdout",
          "text": [
            "[[1 4]\n",
            " [6 9]]\n"
          ]
        }
      ]
    },
    {
      "cell_type": "code",
      "source": [
        "x2_sub[0,0] = 99\n",
        "print(x2_sub)"
      ],
      "metadata": {
        "colab": {
          "base_uri": "https://localhost:8080/"
        },
        "id": "fTpkHz7bf8lV",
        "outputId": "8ac5c33a-a27b-4572-dd10-3ddd67fd13e6"
      },
      "execution_count": 22,
      "outputs": [
        {
          "output_type": "stream",
          "name": "stdout",
          "text": [
            "[[99  4]\n",
            " [ 6  9]]\n"
          ]
        }
      ]
    },
    {
      "cell_type": "code",
      "source": [
        "print(x2)"
      ],
      "metadata": {
        "colab": {
          "base_uri": "https://localhost:8080/"
        },
        "id": "xa7VcCCUgExn",
        "outputId": "0c6f2b67-14d3-4463-e526-a74f184013d4"
      },
      "execution_count": 23,
      "outputs": [
        {
          "output_type": "stream",
          "name": "stdout",
          "text": [
            "[[99  4  3  1]\n",
            " [ 6  9  9  2]\n",
            " [ 9  2  9  4]\n",
            " [ 5  4  3  9]]\n"
          ]
        }
      ]
    },
    {
      "cell_type": "markdown",
      "source": [
        "##Creating copies of arrays\n"
      ],
      "metadata": {
        "id": "FYzV_AJuggim"
      }
    },
    {
      "cell_type": "code",
      "source": [
        "#Despite the nice features of array views, it is sometimes useful to instead explicitly copy the data within an array or a subarray. This can be most easily done with the copy() method:"
      ],
      "metadata": {
        "id": "FT31OLQrgrsp"
      },
      "execution_count": 24,
      "outputs": []
    },
    {
      "cell_type": "code",
      "source": [
        "x2_sub_copy = x2[:2, :2].copy()\n",
        "print(x2_sub_copy)"
      ],
      "metadata": {
        "colab": {
          "base_uri": "https://localhost:8080/"
        },
        "id": "bzSRVeO1hOcc",
        "outputId": "5bb3ee3c-c1ba-41cf-8bc3-4692b9243c5d"
      },
      "execution_count": 25,
      "outputs": [
        {
          "output_type": "stream",
          "name": "stdout",
          "text": [
            "[[99  4]\n",
            " [ 6  9]]\n"
          ]
        }
      ]
    },
    {
      "cell_type": "code",
      "source": [
        "x2_sub_copy[0, 0] = 42\n",
        "print(x2_sub_copy)"
      ],
      "metadata": {
        "colab": {
          "base_uri": "https://localhost:8080/"
        },
        "id": "zxh65RilhWav",
        "outputId": "42e66570-0208-4404-ec12-d957ff6d1e4c"
      },
      "execution_count": 26,
      "outputs": [
        {
          "output_type": "stream",
          "name": "stdout",
          "text": [
            "[[42  4]\n",
            " [ 6  9]]\n"
          ]
        }
      ]
    },
    {
      "cell_type": "code",
      "source": [
        "print(x2)"
      ],
      "metadata": {
        "id": "_GYN0dIZhnV0",
        "outputId": "1e7d0444-52bc-47b4-894b-3256fc65e4bc",
        "colab": {
          "base_uri": "https://localhost:8080/"
        }
      },
      "execution_count": 27,
      "outputs": [
        {
          "output_type": "stream",
          "name": "stdout",
          "text": [
            "[[99  4  3  1]\n",
            " [ 6  9  9  2]\n",
            " [ 9  2  9  4]\n",
            " [ 5  4  3  9]]\n"
          ]
        }
      ]
    },
    {
      "cell_type": "markdown",
      "source": [
        "# Reshaping of Arrays\n",
        "Another useful type of operation is reshaping of arrays. The most flexible way of doing this is with the reshape method. For example, if you want to put the numbers 1 through 9 in a 3×3 grid, you can do the following:"
      ],
      "metadata": {
        "id": "CDytZfyEWGkV"
      }
    },
    {
      "cell_type": "code",
      "source": [
        "grid = np.arange(1,10).reshape((3,3))\n",
        "print(grid)"
      ],
      "metadata": {
        "colab": {
          "base_uri": "https://localhost:8080/"
        },
        "id": "6KjuGmNKWSEZ",
        "outputId": "14e26e46-c3e1-48fd-ecf0-f42732996262"
      },
      "execution_count": 29,
      "outputs": [
        {
          "output_type": "stream",
          "name": "stdout",
          "text": [
            "[[1 2 3]\n",
            " [4 5 6]\n",
            " [7 8 9]]\n"
          ]
        }
      ]
    },
    {
      "cell_type": "code",
      "source": [
        "x = np.array([1,2,3])\n",
        "\n",
        "#row vector via reshape\n",
        "x.reshape((1,3))"
      ],
      "metadata": {
        "colab": {
          "base_uri": "https://localhost:8080/"
        },
        "id": "xQOQhNZYWowk",
        "outputId": "b7aff215-1e9c-430e-a8e0-9edd90aeabf1"
      },
      "execution_count": 31,
      "outputs": [
        {
          "output_type": "execute_result",
          "data": {
            "text/plain": [
              "array([[1, 2, 3]])"
            ]
          },
          "metadata": {},
          "execution_count": 31
        }
      ]
    },
    {
      "cell_type": "code",
      "source": [
        "#row vector via newaxis\n",
        "x[np.newaxis, :]"
      ],
      "metadata": {
        "colab": {
          "base_uri": "https://localhost:8080/"
        },
        "id": "ZjNSv-VFW7kU",
        "outputId": "74088425-c6bb-4bf8-f065-039a47020c9e"
      },
      "execution_count": 32,
      "outputs": [
        {
          "output_type": "execute_result",
          "data": {
            "text/plain": [
              "array([[1, 2, 3]])"
            ]
          },
          "metadata": {},
          "execution_count": 32
        }
      ]
    },
    {
      "cell_type": "code",
      "source": [
        "#column vector via newaxis\n",
        "x[:, np.newaxis]"
      ],
      "metadata": {
        "colab": {
          "base_uri": "https://localhost:8080/"
        },
        "id": "7yBWlkSRXPzx",
        "outputId": "12e8bbfc-5c56-4d42-a438-0474c451db97"
      },
      "execution_count": 33,
      "outputs": [
        {
          "output_type": "execute_result",
          "data": {
            "text/plain": [
              "array([[1],\n",
              "       [2],\n",
              "       [3]])"
            ]
          },
          "metadata": {},
          "execution_count": 33
        }
      ]
    },
    {
      "cell_type": "markdown",
      "source": [
        "# Array Concatenation and Splitting\n",
        "All of the preceding routines worked on single arrays. It's also possible to combine multiple arrays into one, and to conversely split a single array into multiple arrays. We'll take a look at those operations here."
      ],
      "metadata": {
        "id": "R3L9egZbX09Z"
      }
    },
    {
      "cell_type": "code",
      "source": [
        "x = np.array([1,2,3])\n",
        "y = np.array([3,2,1])\n",
        "np.concatenate([x,y])"
      ],
      "metadata": {
        "colab": {
          "base_uri": "https://localhost:8080/"
        },
        "id": "Mjn5yhhgYH9i",
        "outputId": "208fdd70-830d-42a8-dbd9-9a7fe13d92b1"
      },
      "execution_count": 34,
      "outputs": [
        {
          "output_type": "execute_result",
          "data": {
            "text/plain": [
              "array([1, 2, 3, 3, 2, 1])"
            ]
          },
          "metadata": {},
          "execution_count": 34
        }
      ]
    },
    {
      "cell_type": "code",
      "source": [
        "z = [99,99,99,]\n",
        "print(np.concatenate([x,y,z]))"
      ],
      "metadata": {
        "colab": {
          "base_uri": "https://localhost:8080/"
        },
        "id": "Q272gUmfYg2v",
        "outputId": "6efa62c3-908a-407a-8bc1-750332cebc38"
      },
      "execution_count": 35,
      "outputs": [
        {
          "output_type": "stream",
          "name": "stdout",
          "text": [
            "[ 1  2  3  3  2  1 99 99 99]\n"
          ]
        }
      ]
    },
    {
      "cell_type": "markdown",
      "source": [
        "It can also be used for two-dimensional arrays:"
      ],
      "metadata": {
        "id": "oJFbYP-mYvD_"
      }
    },
    {
      "cell_type": "code",
      "source": [
        "grid = np.array([[1,2,3],\n",
        "                [4,5,6]])"
      ],
      "metadata": {
        "id": "dDBkCAeiY4gB"
      },
      "execution_count": 38,
      "outputs": []
    },
    {
      "cell_type": "code",
      "source": [
        "#concatenate along the first axis\n",
        "np.concatenate([grid,grid])"
      ],
      "metadata": {
        "colab": {
          "base_uri": "https://localhost:8080/"
        },
        "id": "JmeAF3RUZQd5",
        "outputId": "70be737b-0473-424f-95ac-f400d679e33f"
      },
      "execution_count": 39,
      "outputs": [
        {
          "output_type": "execute_result",
          "data": {
            "text/plain": [
              "array([[1, 2, 3],\n",
              "       [4, 5, 6],\n",
              "       [1, 2, 3],\n",
              "       [4, 5, 6]])"
            ]
          },
          "metadata": {},
          "execution_count": 39
        }
      ]
    },
    {
      "cell_type": "code",
      "source": [
        "#conatenate along the second axis (zero-indexed)\n",
        "np.concatenate([grid,grid], axis=1)"
      ],
      "metadata": {
        "colab": {
          "base_uri": "https://localhost:8080/"
        },
        "id": "hwLEoSsGZoSy",
        "outputId": "1dd8c855-9d99-4484-e3b7-48d948a34996"
      },
      "execution_count": 40,
      "outputs": [
        {
          "output_type": "execute_result",
          "data": {
            "text/plain": [
              "array([[1, 2, 3, 1, 2, 3],\n",
              "       [4, 5, 6, 4, 5, 6]])"
            ]
          },
          "metadata": {},
          "execution_count": 40
        }
      ]
    },
    {
      "cell_type": "code",
      "source": [
        "x = np.array([1,2,3])\n",
        "grid = np.array([[9,8,7],\n",
        "                 [6,5,4]])\n",
        "\n",
        "#vertically stack the arrays\n",
        "np.vstack([x,grid])"
      ],
      "metadata": {
        "colab": {
          "base_uri": "https://localhost:8080/"
        },
        "id": "B4oULMGEaNZ8",
        "outputId": "9e12f191-3ead-405b-d94b-54d46faeb149"
      },
      "execution_count": 41,
      "outputs": [
        {
          "output_type": "execute_result",
          "data": {
            "text/plain": [
              "array([[1, 2, 3],\n",
              "       [9, 8, 7],\n",
              "       [6, 5, 4]])"
            ]
          },
          "metadata": {},
          "execution_count": 41
        }
      ]
    },
    {
      "cell_type": "code",
      "source": [
        "#horizontally stack the arrays\n",
        "y = np.array ([[99],\n",
        "               [99]])\n",
        "np.hstack([grid,y])"
      ],
      "metadata": {
        "colab": {
          "base_uri": "https://localhost:8080/"
        },
        "id": "b1FJyDNyaxFF",
        "outputId": "ff11bd4c-c74e-4589-f5de-aa6cdd66187b"
      },
      "execution_count": 42,
      "outputs": [
        {
          "output_type": "execute_result",
          "data": {
            "text/plain": [
              "array([[ 9,  8,  7, 99],\n",
              "       [ 6,  5,  4, 99]])"
            ]
          },
          "metadata": {},
          "execution_count": 42
        }
      ]
    },
    {
      "cell_type": "markdown",
      "source": [
        "## Splitting of arrays\n",
        "The opposite of concatenation is splitting, which is implemented by the functions np.split, np.hsplit, and np.vsplit. For each of these, we can pass a list of indices giving the split points"
      ],
      "metadata": {
        "id": "AR9mOTQ5bNX0"
      }
    },
    {
      "cell_type": "code",
      "source": [
        "x = [1,2,3,99,99,3,2,1]\n",
        "x1,x2,x3 = np.split(x, [3,6])\n",
        "print(x1, x2, x3)"
      ],
      "metadata": {
        "colab": {
          "base_uri": "https://localhost:8080/"
        },
        "id": "cUC1j8U6bbV-",
        "outputId": "91a08c6b-db71-4dec-f135-73aeca55c032"
      },
      "execution_count": 48,
      "outputs": [
        {
          "output_type": "stream",
          "name": "stdout",
          "text": [
            "[1 2 3] [99 99  3] [2 1]\n"
          ]
        }
      ]
    },
    {
      "cell_type": "code",
      "source": [
        "grid = np.arange(16).reshape((4,4))\n",
        "grid"
      ],
      "metadata": {
        "colab": {
          "base_uri": "https://localhost:8080/"
        },
        "id": "onsQjREUcXF9",
        "outputId": "9c382daf-fe09-47b7-ccda-3f4f53924613"
      },
      "execution_count": 49,
      "outputs": [
        {
          "output_type": "execute_result",
          "data": {
            "text/plain": [
              "array([[ 0,  1,  2,  3],\n",
              "       [ 4,  5,  6,  7],\n",
              "       [ 8,  9, 10, 11],\n",
              "       [12, 13, 14, 15]])"
            ]
          },
          "metadata": {},
          "execution_count": 49
        }
      ]
    },
    {
      "cell_type": "code",
      "source": [
        "upper, lower = np.vsplit(grid, [2])\n",
        "print(upper)\n",
        "print(lower)"
      ],
      "metadata": {
        "colab": {
          "base_uri": "https://localhost:8080/"
        },
        "id": "VsKN4z64ct-7",
        "outputId": "0d4f12d3-5a79-49af-9d45-ae89864d5e3f"
      },
      "execution_count": 50,
      "outputs": [
        {
          "output_type": "stream",
          "name": "stdout",
          "text": [
            "[[0 1 2 3]\n",
            " [4 5 6 7]]\n",
            "[[ 8  9 10 11]\n",
            " [12 13 14 15]]\n"
          ]
        }
      ]
    },
    {
      "cell_type": "code",
      "source": [
        "left, right = np.hsplit(grid, [2])\n",
        "print(left)\n",
        "print(right)"
      ],
      "metadata": {
        "colab": {
          "base_uri": "https://localhost:8080/"
        },
        "id": "gYMrkIyWdDgs",
        "outputId": "183f4484-5d09-4aa1-ae76-156a1480c184"
      },
      "execution_count": 51,
      "outputs": [
        {
          "output_type": "stream",
          "name": "stdout",
          "text": [
            "[[ 0  1]\n",
            " [ 4  5]\n",
            " [ 8  9]\n",
            " [12 13]]\n",
            "[[ 2  3]\n",
            " [ 6  7]\n",
            " [10 11]\n",
            " [14 15]]\n"
          ]
        }
      ]
    },
    {
      "cell_type": "markdown",
      "source": [
        "# Mathematics"
      ],
      "metadata": {
        "id": "nGYEfBOndjtu"
      }
    },
    {
      "cell_type": "code",
      "source": [
        "a = np.array([1,2,3,4])\n",
        "print(a)"
      ],
      "metadata": {
        "colab": {
          "base_uri": "https://localhost:8080/"
        },
        "id": "c98epouudynN",
        "outputId": "e48e9164-d5bc-4c39-8204-2d1ed7d12676"
      },
      "execution_count": 52,
      "outputs": [
        {
          "output_type": "stream",
          "name": "stdout",
          "text": [
            "[1 2 3 4]\n"
          ]
        }
      ]
    },
    {
      "cell_type": "markdown",
      "source": [
        "Problem Statement: Let's say there are four people and they already have some money and we want to give 2 to each one of them. How to do it in one go and do same for other mathematical operations too."
      ],
      "metadata": {
        "id": "djikMOWaeB9r"
      }
    },
    {
      "cell_type": "code",
      "source": [
        "a + 2"
      ],
      "metadata": {
        "colab": {
          "base_uri": "https://localhost:8080/"
        },
        "id": "edQtBff1eVSE",
        "outputId": "6bc4bba3-e602-4289-8a5c-6466cf610457"
      },
      "execution_count": 53,
      "outputs": [
        {
          "output_type": "execute_result",
          "data": {
            "text/plain": [
              "array([3, 4, 5, 6])"
            ]
          },
          "metadata": {},
          "execution_count": 53
        }
      ]
    },
    {
      "cell_type": "code",
      "source": [
        "a - 2"
      ],
      "metadata": {
        "colab": {
          "base_uri": "https://localhost:8080/"
        },
        "id": "5fzWrmXweibZ",
        "outputId": "cb4537e0-5f94-42c3-f46e-0d57836cb841"
      },
      "execution_count": 54,
      "outputs": [
        {
          "output_type": "execute_result",
          "data": {
            "text/plain": [
              "array([-1,  0,  1,  2])"
            ]
          },
          "metadata": {},
          "execution_count": 54
        }
      ]
    },
    {
      "cell_type": "code",
      "source": [
        "a * 2"
      ],
      "metadata": {
        "colab": {
          "base_uri": "https://localhost:8080/"
        },
        "id": "P4OhW99uemK1",
        "outputId": "a9efcb98-426a-4c34-d81b-28accc30e068"
      },
      "execution_count": 55,
      "outputs": [
        {
          "output_type": "execute_result",
          "data": {
            "text/plain": [
              "array([2, 4, 6, 8])"
            ]
          },
          "metadata": {},
          "execution_count": 55
        }
      ]
    },
    {
      "cell_type": "code",
      "source": [
        "a / 2"
      ],
      "metadata": {
        "colab": {
          "base_uri": "https://localhost:8080/"
        },
        "id": "_VH5C6uQenoY",
        "outputId": "2cf755b9-e7b6-4523-ccd7-3bd10bd75dba"
      },
      "execution_count": 56,
      "outputs": [
        {
          "output_type": "execute_result",
          "data": {
            "text/plain": [
              "array([0.5, 1. , 1.5, 2. ])"
            ]
          },
          "metadata": {},
          "execution_count": 56
        }
      ]
    },
    {
      "cell_type": "code",
      "source": [
        "b = np.array([1,0,1,0])\n",
        "a + b"
      ],
      "metadata": {
        "colab": {
          "base_uri": "https://localhost:8080/"
        },
        "id": "jHeCq1Pke7CK",
        "outputId": "7333134e-61e8-43e9-d7a5-02ea1ef50e36"
      },
      "execution_count": 57,
      "outputs": [
        {
          "output_type": "execute_result",
          "data": {
            "text/plain": [
              "array([2, 2, 4, 4])"
            ]
          },
          "metadata": {},
          "execution_count": 57
        }
      ]
    },
    {
      "cell_type": "code",
      "source": [
        "a ** 2"
      ],
      "metadata": {
        "colab": {
          "base_uri": "https://localhost:8080/"
        },
        "id": "SaZStDgUfMVx",
        "outputId": "d6ec9805-1f77-405b-9a07-489938897c13"
      },
      "execution_count": 58,
      "outputs": [
        {
          "output_type": "execute_result",
          "data": {
            "text/plain": [
              "array([ 1,  4,  9, 16])"
            ]
          },
          "metadata": {},
          "execution_count": 58
        }
      ]
    },
    {
      "cell_type": "markdown",
      "source": [
        "# Statistics"
      ],
      "metadata": {
        "id": "fZJ9Gx0LfaKn"
      }
    },
    {
      "cell_type": "code",
      "source": [
        "stats = np.array([[1,2,3],[4,5,6]])\n",
        "stats"
      ],
      "metadata": {
        "colab": {
          "base_uri": "https://localhost:8080/"
        },
        "id": "gi9BIlKJfdsa",
        "outputId": "fb968426-0f62-4a00-a935-25f1f65c128f"
      },
      "execution_count": 60,
      "outputs": [
        {
          "output_type": "execute_result",
          "data": {
            "text/plain": [
              "array([[1, 2, 3],\n",
              "       [4, 5, 6]])"
            ]
          },
          "metadata": {},
          "execution_count": 60
        }
      ]
    },
    {
      "cell_type": "code",
      "source": [
        "np.min(stats)"
      ],
      "metadata": {
        "colab": {
          "base_uri": "https://localhost:8080/"
        },
        "id": "Bw13HJWDfs3C",
        "outputId": "b3fa5485-b17f-42ef-d9f8-6f9975220226"
      },
      "execution_count": 61,
      "outputs": [
        {
          "output_type": "execute_result",
          "data": {
            "text/plain": [
              "np.int64(1)"
            ]
          },
          "metadata": {},
          "execution_count": 61
        }
      ]
    },
    {
      "cell_type": "code",
      "source": [
        "np.max(stats, axis=1)"
      ],
      "metadata": {
        "colab": {
          "base_uri": "https://localhost:8080/"
        },
        "id": "myeNzJGlfv48",
        "outputId": "96efd459-64dc-452d-e881-0ba80afbd557"
      },
      "execution_count": 62,
      "outputs": [
        {
          "output_type": "execute_result",
          "data": {
            "text/plain": [
              "array([3, 6])"
            ]
          },
          "metadata": {},
          "execution_count": 62
        }
      ]
    },
    {
      "cell_type": "code",
      "source": [
        "np.sum(stats, axis=0)"
      ],
      "metadata": {
        "colab": {
          "base_uri": "https://localhost:8080/"
        },
        "id": "knwjoimxf8vF",
        "outputId": "d1348398-aff9-44a6-f45a-ff9820157fb0"
      },
      "execution_count": 63,
      "outputs": [
        {
          "output_type": "execute_result",
          "data": {
            "text/plain": [
              "array([5, 7, 9])"
            ]
          },
          "metadata": {},
          "execution_count": 63
        }
      ]
    }
  ]
}